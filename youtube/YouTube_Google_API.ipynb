{
  "nbformat": 4,
  "nbformat_minor": 0,
  "metadata": {
    "colab": {
      "provenance": []
    },
    "kernelspec": {
      "name": "python3",
      "display_name": "Python 3"
    },
    "language_info": {
      "name": "python"
    }
  },
  "cells": [
    {
      "cell_type": "code",
      "source": [
        "# import libraries\n",
        "import googleapiclient.discovery\n",
        "import csv"
      ],
      "metadata": {
        "id": "siiAorQieaC1"
      },
      "execution_count": 8,
      "outputs": []
    },
    {
      "cell_type": "code",
      "source": [
        "# Define YouTube API parameters\n",
        "api_service_name = \"youtube\"\n",
        "api_version = \"v3\"\n",
        "DEVELOPER_KEY = DEVELOPER_KEY"
      ],
      "metadata": {
        "id": "Um_db9Tjd-Lu"
      },
      "execution_count": 13,
      "outputs": []
    },
    {
      "cell_type": "code",
      "source": [
        "# Build the YouTube API client\n",
        "youtube = googleapiclient.discovery.build(\n",
        "    api_service_name, api_version, developerKey=DEVELOPER_KEY\n",
        ")"
      ],
      "metadata": {
        "id": "zn5o-_fDehd0"
      },
      "execution_count": 14,
      "outputs": []
    },
    {
      "cell_type": "code",
      "source": [
        "# Make a request to the commentThreads endpoint\n",
        "request = youtube.commentThreads().list(\n",
        "    part=\"snippet\",\n",
        "    videoId=\"SIm2W9TtzR0\",\n",
        "    maxResults=100\n",
        ")"
      ],
      "metadata": {
        "id": "N_W_Vi8len6H"
      },
      "execution_count": 15,
      "outputs": []
    },
    {
      "cell_type": "code",
      "source": [
        "# Execute the request\n",
        "response = request.execute()"
      ],
      "metadata": {
        "id": "kpqzTE_xeqgS"
      },
      "execution_count": 16,
      "outputs": []
    },
    {
      "cell_type": "code",
      "source": [
        "# Initialize a list to hold comment data\n",
        "comments_list = []\n",
        "\n",
        "# Process the response and write to CSV\n",
        "with open('youtube_comments.csv', mode='w', newline='', encoding='utf-8') as file:\n",
        "    writer = csv.writer(file)\n",
        "    writer.writerow(['Comment ID', 'Created Time', 'From', 'Comment'])\n",
        "\n",
        "    for item in response['items']:\n",
        "        comment_id = item['snippet']['topLevelComment']['id']\n",
        "        created_time = item['snippet']['topLevelComment']['snippet']['publishedAt']\n",
        "        from_user = item['snippet']['topLevelComment']['snippet']['authorDisplayName']\n",
        "        message = item['snippet']['topLevelComment']['snippet']['textDisplay']\n",
        "\n",
        "        writer.writerow([comment_id, created_time, from_user, message])\n",
        "\n",
        "print(\"Comments saved to youtube_comments.csv\")\n"
      ],
      "metadata": {
        "id": "Mp0tJp3ket5b",
        "outputId": "4fa15507-f968-4aec-d5c1-3f0ec970512f",
        "colab": {
          "base_uri": "https://localhost:8080/"
        }
      },
      "execution_count": 17,
      "outputs": [
        {
          "output_type": "stream",
          "name": "stdout",
          "text": [
            "Comments saved to youtube_comments.csv\n"
          ]
        }
      ]
    }
  ]
}