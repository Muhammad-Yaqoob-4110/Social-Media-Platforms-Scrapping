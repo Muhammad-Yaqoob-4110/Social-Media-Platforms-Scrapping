{
  "cells": [
    {
      "cell_type": "code",
      "execution_count": null,
      "metadata": {
        "id": "xbORyWyPTuLe"
      },
      "outputs": [],
      "source": [
        "# import pacakges\n",
        "import requests\n",
        "import json\n",
        "import csv\n",
        "import os"
      ]
    },
    {
      "cell_type": "code",
      "execution_count": 64,
      "metadata": {
        "colab": {
          "base_uri": "https://localhost:8080/"
        },
        "id": "J7KT5PzUO_Yw",
        "outputId": "6e0639a2-b9ad-4c91-9b94-d8fb612b99bb"
      },
      "outputs": [
        {
          "name": "stdout",
          "output_type": "stream",
          "text": [
            "Commments saved to the comments.csv file\n"
          ]
        }
      ],
      "source": [
        "\n",
        "# Define the access token and page name\n",
        "page_access_token = GRAPH_API_KEY\n",
        "# Define the feed URL for the page\n",
        "feed_url = f'https://graph.facebook.com/v20.0/me/feed'\n",
        "\n",
        "# Define parameters for the request\n",
        "params = {\n",
        "    'access_token': page_access_token,\n",
        "    'fields': 'id,comments{created_time,from,message}'\n",
        "}\n",
        "\n",
        "# Make the GET request to the Facebook Graph API to get the page feed\n",
        "response = requests.get(feed_url, params=params)\n",
        "\n",
        "# Check if the request was successful\n",
        "if response.status_code == 200:\n",
        "    # Parse the JSON response\n",
        "    data = response.json()\n",
        "\n",
        "    # Print the raw JSON data (for debugging purposes)\n",
        "    # print(json.dumps(data, indent=4))\n",
        "\n",
        "    # Open a CSV file to write the comments\n",
        "    with open('comments.csv', mode='w', newline='', encoding='utf-8') as file:\n",
        "        writer = csv.writer(file)\n",
        "        # Write the header row\n",
        "        writer.writerow(['Comment ID', 'Created Time', 'From', 'Comments'])\n",
        "\n",
        "        # Extract and write comments for each post\n",
        "        if 'data' in data:\n",
        "            posts = data['data']\n",
        "            for post in posts:\n",
        "                post_id = post.get('id', 'N/A')\n",
        "                comments_data = post.get('comments', {}).get('data', [])\n",
        "                if comments_data:\n",
        "                    for comment in comments_data:\n",
        "                        created_time = comment.get('created_time', 'N/A')\n",
        "                        from_user = comment.get('from', {}).get('name', 'N/A')\n",
        "                        message = comment.get('message', 'N/A')\n",
        "                        comment_id = comment.get('id', 'N/A')\n",
        "\n",
        "                        # Write the comment details to the CSV file\n",
        "                        writer.writerow([comment_id, created_time, from_user, message])\n",
        "\n",
        "                    print(\"Commments saved to the comments.csv file\")\n",
        "                else:\n",
        "                    print(f\"No comments found for post ID: {post_id}\")\n",
        "        else:\n",
        "            print(\"No posts found.\")\n",
        "else:\n",
        "    print(f\"Error: {response.status_code}\")\n",
        "    print(response.text)"
      ]
    }
  ],
  "metadata": {
    "colab": {
      "provenance": []
    },
    "kernelspec": {
      "display_name": "Python 3",
      "name": "python3"
    },
    "language_info": {
      "name": "python"
    }
  },
  "nbformat": 4,
  "nbformat_minor": 0
}
